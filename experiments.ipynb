{
 "cells": [
  {
   "cell_type": "code",
   "execution_count": 1,
   "metadata": {},
   "outputs": [
    {
     "data": {
      "text/plain": [
       "4"
      ]
     },
     "execution_count": 1,
     "metadata": {},
     "output_type": "execute_result"
    }
   ],
   "source": [
    "a = \"abba\"\n",
    "b = \"ccd\"\n",
    "len(a)"
   ]
  },
  {
   "cell_type": "code",
   "execution_count": 2,
   "metadata": {},
   "outputs": [],
   "source": [
    "import numpy as np"
   ]
  },
  {
   "cell_type": "code",
   "execution_count": 3,
   "metadata": {},
   "outputs": [],
   "source": [
    "#Generator of non equivalent word on a certain alphabet and with certain size.\n",
    "#the parametter lastLetter is only usefull for the recursion. \n",
    "def allWord(alphabet, size, lastLetter=0):\n",
    "    if size == 0:\n",
    "        yield \"\"\n",
    "    else:\n",
    "        for i in allWord(alphabet, size - 1, lastLetter):\n",
    "            for j in range(lastLetter):\n",
    "                yield alphabet[j] + i\n",
    "        if lastLetter < len(alphabet):\n",
    "            for i in allWord(alphabet, size-1, lastLetter + 1):\n",
    "                yield alphabet[lastLetter] + i"
   ]
  },
  {
   "cell_type": "code",
   "execution_count": 4,
   "metadata": {},
   "outputs": [
    {
     "name": "stdout",
     "output_type": "stream",
     "text": [
      "aaaa\n",
      "aaab\n",
      "aaba\n",
      "aabb\n",
      "abaa\n",
      "abba\n",
      "abab\n",
      "abbb\n"
     ]
    }
   ],
   "source": [
    "for i in allWord(\"ab\", 4, 0):\n",
    "    print(i)"
   ]
  },
  {
   "cell_type": "code",
   "execution_count": 5,
   "metadata": {},
   "outputs": [],
   "source": [
    "def calcul_r(u: str) -> np.array:\n",
    "    \"\"\"Calcule du r-vecteur de u\"\"\"\n",
    "    n = len(u)\n",
    "    # we initialize the r vector\n",
    "    r = np.zeros(n, dtype=int)\n",
    "\n",
    "    for i in range(n):  # calcul de r(u[:i], u[i])\n",
    "        # for each letter c of the word u, and a prefix u' s.t. u=u'cu''\n",
    "        # we look at w, first suffix of u' starting with the letter c\n",
    "\n",
    "        # indice de la dernière occurence de u[i] dans u[:i]\n",
    "        start_of_w = u.rfind(u[i], 0, i)\n",
    "\n",
    "        if start_of_w == -1:\n",
    "            r[i] = 0\n",
    "        else:\n",
    "            r[i] = 1 + np.min(r[start_of_w:i])\n",
    "    return r"
   ]
  },
  {
   "cell_type": "code",
   "execution_count": 6,
   "metadata": {},
   "outputs": [],
   "source": [
    "def period(word, n):\n",
    "    \"\"\"\n",
    "    Return the (period, transient)\n",
    "    \"\"\"\n",
    "    # Create r-vector\n",
    "    r_vector = calcul_r(word * n)\n",
    "    r_chunks = []\n",
    "    \n",
    "    lword = len(word)\n",
    "\n",
    "    # Cut the r-vector into chunks of length of word\n",
    "    for i in range(n):\n",
    "        r_chunks.append(r_vector[(lword*i):(lword*(i+1))])\n",
    "\n",
    "    # We iterate over different periods\n",
    "    for p in range(1, n):\n",
    "        previous = None # last difference vector\n",
    "        same = False # tell if the previous difference vector is the same as the current one\n",
    "\n",
    "        # We iterate over the chunks, starting from the last part\n",
    "        for i in range(n-1, p - 2, -1):\n",
    "            diff = r_chunks[i] - r_chunks[i - p]\n",
    "\n",
    "            # First case, we don't have anything to compare to\n",
    "            if previous is None:\n",
    "                previous = diff\n",
    "\n",
    "            # Other cases\n",
    "            else:\n",
    "                if not(np.array_equal(previous, diff)) and not(same):\n",
    "                    break\n",
    "                elif not(np.array_equal(previous, diff)) and same:\n",
    "                    return (p, i-p + 1)\n",
    "                else:\n",
    "                    same = True"
   ]
  },
  {
   "cell_type": "code",
   "execution_count": 7,
   "metadata": {},
   "outputs": [
    {
     "data": {
      "text/plain": [
       "(1, 3)"
      ]
     },
     "execution_count": 7,
     "metadata": {},
     "output_type": "execute_result"
    }
   ],
   "source": [
    "period(\"abaccdd\", 10)"
   ]
  },
  {
   "cell_type": "code",
   "execution_count": 8,
   "metadata": {},
   "outputs": [
    {
     "name": "stdout",
     "output_type": "stream",
     "text": [
      "aaaaaaaaaaaa\n"
     ]
    }
   ],
   "source": [
    "for i in allWord(\"a\", 12, 0):\n",
    "    print(i)"
   ]
  },
  {
   "cell_type": "code",
   "execution_count": 9,
   "metadata": {},
   "outputs": [
    {
     "name": "stdout",
     "output_type": "stream",
     "text": [
      "la peride du mot aaaaaa est 1 et sont transiant est de taille 0\n",
      "la peride du mot aaaaab est 1 et sont transiant est de taille 0\n",
      "la peride du mot aaaaba est 1 et sont transiant est de taille 1\n",
      "la peride du mot aaaabb est 1 et sont transiant est de taille 1\n",
      "la peride du mot aaaabc est 1 et sont transiant est de taille 0\n",
      "la peride du mot aaabaa est 1 et sont transiant est de taille 1\n",
      "la peride du mot aaabba est 1 et sont transiant est de taille 0\n",
      "la peride du mot aaabab est 1 et sont transiant est de taille 0\n",
      "la peride du mot aaabbb est 1 et sont transiant est de taille 1\n",
      "la peride du mot aaabac est 1 et sont transiant est de taille 0\n",
      "la peride du mot aaabbc est 1 et sont transiant est de taille 0\n",
      "la peride du mot aaabca est 1 et sont transiant est de taille 1\n",
      "la peride du mot aaabcb est 1 et sont transiant est de taille 1\n",
      "la peride du mot aaabcc est 1 et sont transiant est de taille 1\n",
      "la peride du mot aaabcd est 1 et sont transiant est de taille 0\n",
      "la peride du mot aabaaa est 1 et sont transiant est de taille 1\n",
      "la peride du mot aabbaa est 1 et sont transiant est de taille 1\n",
      "la peride du mot aababa est 1 et sont transiant est de taille 1\n",
      "la peride du mot aabbba est 1 et sont transiant est de taille 0\n",
      "la peride du mot aabaab est 1 et sont transiant est de taille 0\n",
      "la peride du mot aabbab est 1 et sont transiant est de taille 1\n",
      "la peride du mot aababb est 1 et sont transiant est de taille 1\n",
      "la peride du mot aabbbb est 1 et sont transiant est de taille 1\n",
      "la peride du mot aabaac est 1 et sont transiant est de taille 0\n",
      "la peride du mot aabbac est 1 et sont transiant est de taille 0\n",
      "la peride du mot aababc est 1 et sont transiant est de taille 0\n",
      "la peride du mot aabbbc est 1 et sont transiant est de taille 0\n",
      "la peride du mot aabaca est 1 et sont transiant est de taille 1\n",
      "la peride du mot aabbca est 1 et sont transiant est de taille 1\n",
      "la peride du mot aabacb est 1 et sont transiant est de taille 1\n",
      "la peride du mot aabbcb est 1 et sont transiant est de taille 1\n",
      "la peride du mot aabacc est 1 et sont transiant est de taille 2\n",
      "la peride du mot aabbcc est 2 et sont transiant est de taille 1\n",
      "la peride du mot aabacd est 1 et sont transiant est de taille 0\n",
      "la peride du mot aabbcd est 1 et sont transiant est de taille 0\n",
      "la peride du mot aabcaa est 1 et sont transiant est de taille 1\n",
      "la peride du mot aabcba est 1 et sont transiant est de taille 1\n",
      "la peride du mot aabcca est 1 et sont transiant est de taille 1\n",
      "la peride du mot aabcab est 1 et sont transiant est de taille 1\n",
      "la peride du mot aabcbb est 1 et sont transiant est de taille 1\n",
      "la peride du mot aabccb est 1 et sont transiant est de taille 1\n",
      "la peride du mot aabcac est 1 et sont transiant est de taille 1\n",
      "la peride du mot aabcbc est 1 et sont transiant est de taille 1\n",
      "la peride du mot aabccc est 1 et sont transiant est de taille 1\n",
      "la peride du mot aabcad est 1 et sont transiant est de taille 0\n",
      "la peride du mot aabcbd est 1 et sont transiant est de taille 0\n",
      "la peride du mot aabccd est 1 et sont transiant est de taille 0\n",
      "la peride du mot aabcda est 1 et sont transiant est de taille 1\n",
      "la peride du mot aabcdb est 1 et sont transiant est de taille 1\n",
      "la peride du mot aabcdc est 1 et sont transiant est de taille 1\n",
      "la peride du mot aabcdd est 1 et sont transiant est de taille 1\n",
      "la peride du mot aabcde est 1 et sont transiant est de taille 0\n",
      "la peride du mot abaaaa est 1 et sont transiant est de taille 1\n",
      "la peride du mot abbaaa est 1 et sont transiant est de taille 1\n",
      "la peride du mot ababaa est 1 et sont transiant est de taille 1\n",
      "la peride du mot abbbaa est 1 et sont transiant est de taille 1\n",
      "la peride du mot abaaba est 1 et sont transiant est de taille 1\n",
      "la peride du mot abbaba est 1 et sont transiant est de taille 0\n",
      "la peride du mot ababba est 1 et sont transiant est de taille 0\n",
      "la peride du mot abbbba est 1 et sont transiant est de taille 0\n",
      "la peride du mot abaaab est 1 et sont transiant est de taille 0\n",
      "la peride du mot abbaab est 1 et sont transiant est de taille 0\n",
      "la peride du mot ababab est 1 et sont transiant est de taille 0\n",
      "la peride du mot abbbab est 1 et sont transiant est de taille 1\n",
      "la peride du mot abaabb est 1 et sont transiant est de taille 1\n",
      "la peride du mot abbabb est 1 et sont transiant est de taille 1\n",
      "la peride du mot ababbb est 1 et sont transiant est de taille 1\n",
      "la peride du mot abbbbb est 1 et sont transiant est de taille 1\n",
      "la peride du mot abaaac est 1 et sont transiant est de taille 0\n",
      "la peride du mot abbaac est 1 et sont transiant est de taille 0\n",
      "la peride du mot ababac est 1 et sont transiant est de taille 0\n",
      "la peride du mot abbbac est 1 et sont transiant est de taille 0\n",
      "la peride du mot abaabc est 1 et sont transiant est de taille 0\n",
      "la peride du mot abbabc est 1 et sont transiant est de taille 0\n",
      "la peride du mot ababbc est 1 et sont transiant est de taille 0\n",
      "la peride du mot abbbbc est 1 et sont transiant est de taille 0\n",
      "la peride du mot abaaca est 1 et sont transiant est de taille 1\n",
      "la peride du mot abbaca est 1 et sont transiant est de taille 1\n",
      "la peride du mot ababca est 1 et sont transiant est de taille 1\n",
      "la peride du mot abbbca est 1 et sont transiant est de taille 1\n",
      "la peride du mot abaacb est 1 et sont transiant est de taille 1\n",
      "la peride du mot abbacb est 1 et sont transiant est de taille 1\n",
      "la peride du mot ababcb est 1 et sont transiant est de taille 1\n",
      "la peride du mot abbbcb est 1 et sont transiant est de taille 1\n",
      "la peride du mot abaacc est 1 et sont transiant est de taille 2\n",
      "la peride du mot abbacc est 1 et sont transiant est de taille 1\n",
      "la peride du mot ababcc est 1 et sont transiant est de taille 1\n",
      "la peride du mot abbbcc est 1 et sont transiant est de taille 2\n",
      "la peride du mot abaacd est 1 et sont transiant est de taille 0\n",
      "la peride du mot abbacd est 1 et sont transiant est de taille 0\n",
      "la peride du mot ababcd est 1 et sont transiant est de taille 0\n",
      "la peride du mot abbbcd est 1 et sont transiant est de taille 0\n",
      "la peride du mot abacaa est 1 et sont transiant est de taille 1\n",
      "la peride du mot abbcaa est 1 et sont transiant est de taille 1\n",
      "la peride du mot abacba est 1 et sont transiant est de taille 1\n",
      "la peride du mot abbcba est 1 et sont transiant est de taille 1\n",
      "la peride du mot abacca est 1 et sont transiant est de taille 2\n",
      "la peride du mot abbcca est 2 et sont transiant est de taille 0\n",
      "la peride du mot abacab est 1 et sont transiant est de taille 1\n",
      "la peride du mot abbcab est 1 et sont transiant est de taille 1\n",
      "la peride du mot abacbb est 1 et sont transiant est de taille 1\n",
      "la peride du mot abbcbb est 1 et sont transiant est de taille 1\n",
      "la peride du mot abaccb est 1 et sont transiant est de taille 1\n",
      "la peride du mot abbccb est 1 et sont transiant est de taille 1\n",
      "la peride du mot abacac est 1 et sont transiant est de taille 2\n",
      "la peride du mot abbcac est 1 et sont transiant est de taille 2\n",
      "la peride du mot abacbc est 1 et sont transiant est de taille 1\n",
      "la peride du mot abbcbc est 1 et sont transiant est de taille 1\n",
      "la peride du mot abaccc est 1 et sont transiant est de taille 2\n",
      "la peride du mot abbccc est 1 et sont transiant est de taille 2\n",
      "la peride du mot abacad est 1 et sont transiant est de taille 0\n",
      "la peride du mot abbcad est 1 et sont transiant est de taille 0\n",
      "la peride du mot abacbd est 1 et sont transiant est de taille 0\n",
      "la peride du mot abbcbd est 1 et sont transiant est de taille 0\n",
      "la peride du mot abaccd est 1 et sont transiant est de taille 0\n",
      "la peride du mot abbccd est 1 et sont transiant est de taille 0\n",
      "la peride du mot abacda est 1 et sont transiant est de taille 1\n",
      "la peride du mot abbcda est 1 et sont transiant est de taille 1\n",
      "la peride du mot abacdb est 1 et sont transiant est de taille 1\n",
      "la peride du mot abbcdb est 1 et sont transiant est de taille 1\n",
      "la peride du mot abacdc est 1 et sont transiant est de taille 1\n",
      "la peride du mot abbcdc est 1 et sont transiant est de taille 1\n",
      "la peride du mot abacdd est 1 et sont transiant est de taille 1\n",
      "la peride du mot abbcdd est 1 et sont transiant est de taille 1\n",
      "la peride du mot abacde est 1 et sont transiant est de taille 0\n",
      "la peride du mot abbcde est 1 et sont transiant est de taille 0\n",
      "la peride du mot abcaaa est 1 et sont transiant est de taille 1\n",
      "la peride du mot abcbaa est 1 et sont transiant est de taille 1\n",
      "la peride du mot abccaa est 1 et sont transiant est de taille 1\n",
      "la peride du mot abcaba est 1 et sont transiant est de taille 1\n",
      "la peride du mot abcbba est 1 et sont transiant est de taille 1\n",
      "la peride du mot abccba est 1 et sont transiant est de taille 0\n",
      "la peride du mot abcaca est 1 et sont transiant est de taille 1\n",
      "la peride du mot abcbca est 1 et sont transiant est de taille 0\n",
      "la peride du mot abccca est 1 et sont transiant est de taille 1\n",
      "la peride du mot abcaab est 1 et sont transiant est de taille 1\n",
      "la peride du mot abcbab est 1 et sont transiant est de taille 1\n",
      "la peride du mot abccab est 1 et sont transiant est de taille 0\n",
      "la peride du mot abcabb est 1 et sont transiant est de taille 1\n",
      "la peride du mot abcbbb est 1 et sont transiant est de taille 1\n",
      "la peride du mot abccbb est 1 et sont transiant est de taille 1\n",
      "la peride du mot abcacb est 1 et sont transiant est de taille 0\n",
      "la peride du mot abcbcb est 1 et sont transiant est de taille 1\n",
      "la peride du mot abcccb est 1 et sont transiant est de taille 1\n",
      "la peride du mot abcaac est 1 et sont transiant est de taille 2\n",
      "la peride du mot abcbac est 1 et sont transiant est de taille 0\n",
      "la peride du mot abccac est 1 et sont transiant est de taille 1\n",
      "la peride du mot abcabc est 1 et sont transiant est de taille 0\n",
      "la peride du mot abcbbc est 1 et sont transiant est de taille 1\n",
      "la peride du mot abccbc est 1 et sont transiant est de taille 1\n",
      "la peride du mot abcacc est 1 et sont transiant est de taille 1\n",
      "la peride du mot abcbcc est 1 et sont transiant est de taille 1\n",
      "la peride du mot abcccc est 1 et sont transiant est de taille 1\n",
      "la peride du mot abcaad est 1 et sont transiant est de taille 0\n",
      "la peride du mot abcbad est 1 et sont transiant est de taille 0\n",
      "la peride du mot abccad est 1 et sont transiant est de taille 0\n",
      "la peride du mot abcabd est 1 et sont transiant est de taille 0\n",
      "la peride du mot abcbbd est 1 et sont transiant est de taille 0\n",
      "la peride du mot abccbd est 1 et sont transiant est de taille 0\n",
      "la peride du mot abcacd est 1 et sont transiant est de taille 0\n",
      "la peride du mot abcbcd est 1 et sont transiant est de taille 0\n",
      "la peride du mot abcccd est 1 et sont transiant est de taille 0\n",
      "la peride du mot abcada est 1 et sont transiant est de taille 1\n",
      "la peride du mot abcbda est 1 et sont transiant est de taille 1\n",
      "la peride du mot abccda est 1 et sont transiant est de taille 1\n",
      "la peride du mot abcadb est 1 et sont transiant est de taille 1\n",
      "la peride du mot abcbdb est 1 et sont transiant est de taille 1\n",
      "la peride du mot abccdb est 1 et sont transiant est de taille 1\n",
      "la peride du mot abcadc est 1 et sont transiant est de taille 1\n",
      "la peride du mot abcbdc est 1 et sont transiant est de taille 1\n",
      "la peride du mot abccdc est 1 et sont transiant est de taille 1\n",
      "la peride du mot abcadd est 1 et sont transiant est de taille 2\n",
      "la peride du mot abcbdd est 1 et sont transiant est de taille 2\n",
      "la peride du mot abccdd est 1 et sont transiant est de taille 2\n",
      "la peride du mot abcade est 1 et sont transiant est de taille 0\n",
      "la peride du mot abcbde est 1 et sont transiant est de taille 0\n",
      "la peride du mot abccde est 1 et sont transiant est de taille 0\n",
      "la peride du mot abcdaa est 1 et sont transiant est de taille 1\n",
      "la peride du mot abcdba est 1 et sont transiant est de taille 1\n",
      "la peride du mot abcdca est 1 et sont transiant est de taille 1\n",
      "la peride du mot abcdda est 1 et sont transiant est de taille 1\n",
      "la peride du mot abcdab est 1 et sont transiant est de taille 1\n",
      "la peride du mot abcdbb est 1 et sont transiant est de taille 1\n",
      "la peride du mot abcdcb est 1 et sont transiant est de taille 1\n",
      "la peride du mot abcddb est 1 et sont transiant est de taille 1\n",
      "la peride du mot abcdac est 1 et sont transiant est de taille 1\n",
      "la peride du mot abcdbc est 1 et sont transiant est de taille 1\n",
      "la peride du mot abcdcc est 1 et sont transiant est de taille 1\n",
      "la peride du mot abcddc est 1 et sont transiant est de taille 1\n",
      "la peride du mot abcdad est 1 et sont transiant est de taille 1\n",
      "la peride du mot abcdbd est 1 et sont transiant est de taille 1\n",
      "la peride du mot abcdcd est 1 et sont transiant est de taille 1\n",
      "la peride du mot abcddd est 1 et sont transiant est de taille 1\n",
      "la peride du mot abcdae est 1 et sont transiant est de taille 0\n",
      "la peride du mot abcdbe est 1 et sont transiant est de taille 0\n",
      "la peride du mot abcdce est 1 et sont transiant est de taille 0\n",
      "la peride du mot abcdde est 1 et sont transiant est de taille 0\n",
      "la peride du mot abcdea est 1 et sont transiant est de taille 1\n",
      "la peride du mot abcdeb est 1 et sont transiant est de taille 1\n",
      "la peride du mot abcdec est 1 et sont transiant est de taille 1\n",
      "la peride du mot abcded est 1 et sont transiant est de taille 1\n",
      "la peride du mot abcdee est 1 et sont transiant est de taille 1\n"
     ]
    }
   ],
   "source": [
    "for i in allWord(\"abcde\", 6, 0):\n",
    "    p, k = period(i, 10)\n",
    "    print(f\"la peride du mot {i} est {p} et sont transiant est de taille {k}\")"
   ]
  },
  {
   "cell_type": "code",
   "execution_count": 10,
   "metadata": {},
   "outputs": [],
   "source": [
    "#this fonction made it's test on all word of a given size and a given alphabet\n",
    "#the parametter n is for the powaer apply to the word to test their period\n",
    "#the result is a dictionary which associate the word with a size > Tperiode and the size of their period\n",
    "def grandePeriode(alphabet, size, n, Tperiode):\n",
    "    res = {}\n",
    "    for i in allWord(alphabet, size, 0):\n",
    "        p, k = period(i, n)\n",
    "        if p >= Tperiode:\n",
    "            res[i] = p\n",
    "    return res"
   ]
  },
  {
   "cell_type": "code",
   "execution_count": 36,
   "metadata": {},
   "outputs": [
    {
     "data": {
      "text/plain": [
       "{}"
      ]
     },
     "execution_count": 36,
     "metadata": {},
     "output_type": "execute_result"
    }
   ],
   "source": [
    "grandePeriode(\"a\", 12, 10, 3)"
   ]
  },
  {
   "cell_type": "code",
   "execution_count": 11,
   "metadata": {},
   "outputs": [],
   "source": [
    "#this fonction is searching on all word of a given size and a given alphabet\n",
    "#the one with the largest period and the ones with the largest transient\n",
    "#the result is doublet, the first element is a doublet containing the word with the largest period and the size of it's period.\n",
    "#The second element is a doublet containing the word with the largest transient and the size of it's transient\n",
    "def maxPeriodAndTranscient(alphabet, size, n):\n",
    "    resP = (\"\",0)\n",
    "    resT = (\"\", 0)\n",
    "    for i in allWord(alphabet, size, 0):\n",
    "        p, k = period(i, n)\n",
    "        if p > resP[1]:\n",
    "            resP = (i,p)\n",
    "        if k > resT[1]:\n",
    "            resT = (i, k)\n",
    "            \n",
    "    return resP, resT"
   ]
  },
  {
   "cell_type": "code",
   "execution_count": 52,
   "metadata": {},
   "outputs": [
    {
     "data": {
      "text/plain": [
       "(('aabbccddeeff', 5), ('aabaccddeeff', 5))"
      ]
     },
     "execution_count": 52,
     "metadata": {},
     "output_type": "execute_result"
    }
   ],
   "source": [
    "maxPeriodAndTranscient(\"abcdef\", 12, 10)"
   ]
  },
  {
   "cell_type": "code",
   "execution_count": 12,
   "metadata": {},
   "outputs": [],
   "source": [
    "def conjugate(word):\n",
    "    for idx in range(len(word)):\n",
    "        yield word[idx:] + word[:idx]"
   ]
  },
  {
   "cell_type": "code",
   "execution_count": 14,
   "metadata": {},
   "outputs": [
    {
     "name": "stdout",
     "output_type": "stream",
     "text": [
      "aabbcc\n",
      "abbcca\n",
      "bbccaa\n",
      "bccaab\n",
      "ccaabb\n",
      "caabbc\n"
     ]
    }
   ],
   "source": [
    "for i in conjugate(\"aabbcc\"):\n",
    "    print(i)"
   ]
  },
  {
   "cell_type": "code",
   "execution_count": 15,
   "metadata": {},
   "outputs": [],
   "source": [
    "def slope(word):\n",
    "    \"\"\"\n",
    "    Calculate the slope of the word\n",
    "    \"\"\"\n",
    "    p, k = period(word, 10) \n",
    "    r_vector = calcul_r(word * 10)\n",
    "    n = len(word)\n",
    "    # We look at the end of the word \n",
    "    diff = r_vector[n * 9: n * 10] - r_vector[n * (9 - p): n * (10 - p)]\n",
    "\n",
    "    return diff[0]"
   ]
  },
  {
   "cell_type": "code",
   "execution_count": 21,
   "metadata": {},
   "outputs": [],
   "source": [
    "def conjugateSlopeAndPeriod(alphabet, size, n):\n",
    "    for i in allWord(alphabet, size):\n",
    "        P = period(i, n)[0]\n",
    "        S = slope(i)\n",
    "        for j in conjugate(i):\n",
    "            Pj = period(j, n)[0]\n",
    "            if Pj != P:\n",
    "                print(f\"le mot {i} n'a pas la meme periode que son conjugué {j} respectivement taille {P}, {Pj}\")\n",
    "            Sj = slope(j)\n",
    "            if Sj != S:\n",
    "                print(f\"le mot {i} n'a pas la meme pente que son conjugué {j} respectivement taille {S}, {Sj}\")"
   ]
  },
  {
   "cell_type": "code",
   "execution_count": null,
   "metadata": {},
   "outputs": [],
   "source": [
    "conjugateSlopeAndPeriod(\"abcde\", 10, 10)"
   ]
  },
  {
   "cell_type": "code",
   "execution_count": null,
   "metadata": {},
   "outputs": [],
   "source": []
  }
 ],
 "metadata": {
  "kernelspec": {
   "display_name": "Python 3",
   "language": "python",
   "name": "python3"
  },
  "language_info": {
   "codemirror_mode": {
    "name": "ipython",
    "version": 3
   },
   "file_extension": ".py",
   "mimetype": "text/x-python",
   "name": "python",
   "nbconvert_exporter": "python",
   "pygments_lexer": "ipython3",
   "version": "3.7.6"
  }
 },
 "nbformat": 4,
 "nbformat_minor": 2
}
