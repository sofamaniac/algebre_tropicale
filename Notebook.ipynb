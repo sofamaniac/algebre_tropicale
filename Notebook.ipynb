{
 "cells": [
  {
   "cell_type": "code",
   "execution_count": 9,
   "metadata": {},
   "outputs": [],
   "source": [
    "import numpy as np\n",
    "import matplotlib.pyplot as plt\n",
    "from scc import strongly_connected_components, critical_cycles, cyclicite, denardo_algorithm, denardo_period\n",
    "from matrice import calcul_matrix\n",
    "from graph import draw_graph\n",
    "from tropical_lib import matrix_multiplication, power, calcul_l, calcul_r"
   ]
  },
  {
   "cell_type": "code",
   "execution_count": 27,
   "metadata": {},
   "outputs": [],
   "source": [
    "from tqdm.notebook import tqdm"
   ]
  },
  {
   "cell_type": "code",
   "execution_count": 3,
   "metadata": {},
   "outputs": [],
   "source": [
    "m = np.array([[1, 10, 10, 10], [10, 1, 10, 10], [10, 10, 1, 1], [10, 10, 1, 1]])"
   ]
  },
  {
   "cell_type": "code",
   "execution_count": 22,
   "metadata": {},
   "outputs": [],
   "source": [
    "word = \"abac\"\n",
    "inf = float(\"inf\")\n",
    "mbis = np.array([[inf, inf,  1.,  1.],\n",
    "                [inf,  1.,  1.,  1.],\n",
    "                [inf,  2.,  2.,  2.],\n",
    "                [inf,  inf,  inf,  1.]])"
   ]
  },
  {
   "cell_type": "code",
   "execution_count": 54,
   "metadata": {},
   "outputs": [
    {
     "data": {
      "text/plain": [
       "array([[inf, inf, inf, inf, inf, inf, inf, inf, inf,  1.,  1.,  1.,  1.,\n",
       "         1.,  1.,  1.],\n",
       "       [inf, inf, inf, inf, inf, inf, inf, inf, inf,  2.,  2.,  2.,  2.,\n",
       "         2.,  2.,  2.],\n",
       "       [inf, inf, inf, inf, inf, inf, inf, inf, inf,  2.,  2.,  2.,  1.,\n",
       "         1.,  1.,  1.],\n",
       "       [inf, inf, inf, inf, inf, inf, inf, inf, inf,  3.,  3.,  3.,  2.,\n",
       "         2.,  2.,  2.],\n",
       "       [inf, inf, inf, inf, inf, inf, inf, inf, inf,  4.,  4.,  4.,  3.,\n",
       "         3.,  3.,  3.],\n",
       "       [inf, inf, inf, inf, inf, inf, inf, inf, inf,  2.,  2.,  2.,  2.,\n",
       "         2.,  2.,  1.],\n",
       "       [inf, inf, inf, inf, inf, inf, inf, inf, inf,  3.,  3.,  3.,  3.,\n",
       "         3.,  3.,  2.],\n",
       "       [inf, inf, inf, inf, inf, inf, inf, inf, inf,  4.,  4.,  4.,  4.,\n",
       "         4.,  4.,  3.],\n",
       "       [inf, inf, inf, inf, inf, inf, inf, inf, inf,  3.,  3.,  3.,  2.,\n",
       "         2.,  2.,  2.],\n",
       "       [inf, inf, inf, inf, inf, inf, inf, inf, inf,  4.,  4.,  4.,  3.,\n",
       "         3.,  3.,  3.],\n",
       "       [inf, inf, inf, inf, inf, inf, inf, inf, inf,  3.,  3.,  3.,  3.,\n",
       "         3.,  3.,  2.],\n",
       "       [inf, inf, inf, inf, inf, inf, inf, inf, inf,  4.,  4.,  4.,  4.,\n",
       "         4.,  4.,  3.],\n",
       "       [inf, inf, inf, inf, inf, inf, inf, inf, inf,  5.,  5.,  5.,  5.,\n",
       "         5.,  5.,  4.],\n",
       "       [inf, inf, inf, inf, inf, inf, inf, inf, inf,  4.,  4.,  4.,  3.,\n",
       "         3.,  3.,  3.],\n",
       "       [inf, inf, inf, inf, inf, inf, inf, inf, inf,  5.,  5.,  5.,  4.,\n",
       "         4.,  4.,  4.],\n",
       "       [inf, inf, inf, inf, inf, inf, inf, inf, inf,  6.,  6.,  6.,  5.,\n",
       "         5.,  5.,  5.]])"
      ]
     },
     "execution_count": 54,
     "metadata": {},
     "output_type": "execute_result"
    }
   ],
   "source": [
    "word = \"aabbbccc\" * 2\n",
    "m = calcul_matrix(word)\n",
    "m"
   ]
  },
  {
   "cell_type": "code",
   "execution_count": 56,
   "metadata": {},
   "outputs": [
    {
     "name": "stdout",
     "output_type": "stream",
     "text": [
      "32\n"
     ]
    },
    {
     "data": {
      "text/plain": [
       "array([[ 0,  1,  0,  1,  2,  0,  1,  2],\n",
       "       [ 1,  2,  1,  2,  3,  2,  3,  4],\n",
       "       [ 2,  3,  3,  4,  5,  3,  4,  5],\n",
       "       [ 4,  5,  4,  5,  6,  5,  6,  7],\n",
       "       [ 5,  6,  6,  7,  8,  6,  7,  8],\n",
       "       [ 7,  8,  7,  8,  9,  8,  9, 10],\n",
       "       [ 8,  9,  9, 10, 11,  9, 10, 11],\n",
       "       [10, 11, 10, 11, 12, 11, 12, 13],\n",
       "       [11, 12, 12, 13, 14, 12, 13, 14],\n",
       "       [13, 14, 13, 14, 15, 14, 15, 16],\n",
       "       [14, 15, 15, 16, 17, 15, 16, 17],\n",
       "       [16, 17, 16, 17, 18, 17, 18, 19],\n",
       "       [17, 18, 18, 19, 20, 18, 19, 20],\n",
       "       [19, 20, 19, 20, 21, 20, 21, 22],\n",
       "       [20, 21, 21, 22, 23, 21, 22, 23],\n",
       "       [22, 23, 22, 23, 24, 23, 24, 25]])"
      ]
     },
     "execution_count": 56,
     "metadata": {},
     "output_type": "execute_result"
    }
   ],
   "source": [
    "n = 8\n",
    "r = calcul_r(word * n).reshape((2 * n, len(word) // 2))\n",
    "print((word * n).count(\"a\"))\n",
    "r"
   ]
  },
  {
   "cell_type": "code",
   "execution_count": 116,
   "metadata": {},
   "outputs": [
    {
     "data": {
      "text/plain": [
       "array([[2, 1, 2],\n",
       "       [3, 2, 3],\n",
       "       [4, 3, 4],\n",
       "       [5, 4, 5],\n",
       "       [6, 5, 6],\n",
       "       [7, 6, 7],\n",
       "       [8, 7, 8]])"
      ]
     },
     "execution_count": 116,
     "metadata": {},
     "output_type": "execute_result"
    }
   ],
   "source": [
    "n = 8\n",
    "word = \"aba\"\n",
    "r = calcul_r(word * n).reshape((n, len(word)))\n",
    "r[1:]"
   ]
  },
  {
   "cell_type": "code",
   "execution_count": 6,
   "metadata": {},
   "outputs": [
    {
     "data": {
      "text/plain": [
       "array([[1, 1, 1, 1, 2, 2],\n",
       "       [1, 1, 2, 2, 1, 1],\n",
       "       [2, 2, 1, 1, 2, 2],\n",
       "       [1, 1, 2, 2, 1, 1],\n",
       "       [2, 2, 1, 1, 2, 2],\n",
       "       [1, 1, 2, 2, 1, 1],\n",
       "       [2, 2, 1, 1, 2, 2]])"
      ]
     },
     "execution_count": 6,
     "metadata": {},
     "output_type": "execute_result"
    }
   ],
   "source": [
    "dr = r[1:] - r[:-1]\n",
    "dr"
   ]
  },
  {
   "cell_type": "code",
   "execution_count": 31,
   "metadata": {},
   "outputs": [],
   "source": [
    "r = np.array([[0, 1, 0, 1, 0, 1]])"
   ]
  },
  {
   "cell_type": "code",
   "execution_count": 39,
   "metadata": {},
   "outputs": [
    {
     "data": {
      "text/plain": [
       "array([[2.],\n",
       "       [3.],\n",
       "       [3.],\n",
       "       [4.],\n",
       "       [4.],\n",
       "       [5.]])"
      ]
     },
     "execution_count": 39,
     "metadata": {},
     "output_type": "execute_result"
    }
   ],
   "source": [
    "matrix_multiplication(power(mbis, 2), r.transpose())"
   ]
  },
  {
   "cell_type": "code",
   "execution_count": 40,
   "metadata": {},
   "outputs": [
    {
     "data": {
      "text/plain": [
       "array([[2.],\n",
       "       [3.],\n",
       "       [3.],\n",
       "       [4.],\n",
       "       [3.],\n",
       "       [4.]])"
      ]
     },
     "execution_count": 40,
     "metadata": {},
     "output_type": "execute_result"
    }
   ],
   "source": [
    "matrix_multiplication(power(m, 2), r.transpose())"
   ]
  },
  {
   "cell_type": "code",
   "execution_count": 27,
   "metadata": {},
   "outputs": [
    {
     "data": {
      "text/plain": [
       "True"
      ]
     },
     "execution_count": 27,
     "metadata": {},
     "output_type": "execute_result"
    }
   ],
   "source": [
    "all((matrix_multiplication(power(mbis, i), r.transpose()) == matrix_multiplication(power(m, i), r.transpose())).all() for i in range(1, 1000))"
   ]
  },
  {
   "cell_type": "code",
   "execution_count": 41,
   "metadata": {},
   "outputs": [
    {
     "name": "stderr",
     "output_type": "stream",
     "text": [
      "  0%|          | 0/1024 [08:20<?, ?it/s]\n"
     ]
    },
    {
     "data": {
      "text/plain": [
       "1"
      ]
     },
     "execution_count": 41,
     "metadata": {},
     "output_type": "execute_result"
    }
   ],
   "source": [
    "cyclicite(calcul_matrix(\"BAACCCCC\"))"
   ]
  },
  {
   "cell_type": "code",
   "execution_count": 15,
   "metadata": {},
   "outputs": [
    {
     "data": {
      "text/plain": [
       "2"
      ]
     },
     "execution_count": 15,
     "metadata": {},
     "output_type": "execute_result"
    }
   ],
   "source": [
    "len(m.shape)"
   ]
  },
  {
   "cell_type": "code",
   "execution_count": 9,
   "metadata": {},
   "outputs": [
    {
     "data": {
      "text/plain": [
       "array([[0],\n",
       "       [0],\n",
       "       [1],\n",
       "       [0]])"
      ]
     },
     "execution_count": 9,
     "metadata": {},
     "output_type": "execute_result"
    }
   ],
   "source": [
    "np.array([[0, 0, 1, 0]]).transpose()"
   ]
  },
  {
   "cell_type": "code",
   "execution_count": 17,
   "metadata": {},
   "outputs": [],
   "source": [
    "def minimum_distance(graph: np.array):\n",
    "    n = graph.shape[0]\n",
    "    dist =  graph.copy()\n",
    "\n",
    "    for k in range(n):\n",
    "        for i in range(n):\n",
    "            for j in range(n):\n",
    "                dist[i][j] = min(dist[i][j], dist[i][k] + dist[k][j])\n",
    "\n",
    "    return dist"
   ]
  },
  {
   "cell_type": "code",
   "execution_count": 26,
   "metadata": {},
   "outputs": [],
   "source": [
    "INF = float(\"inf\")\n",
    "\n",
    "\n",
    "def shortestpath(graph: np.array):\n",
    "    n = graph.shape[0]\n",
    "    \n",
    "    # initializing all distances as -1\n",
    "    dp = -np.ones((n + 1, n), dtype=np.float64)\n",
    " \n",
    "    # shortest distance From first vertex\n",
    "    # to in tself consisting of 0 edges\n",
    "    dp[0, 0] = 0\n",
    " \n",
    "    # filling up the dp table\n",
    "    for i in range(1, n + 1):\n",
    "        for j in range(n):\n",
    "            for k in range(n):\n",
    "                if graph[k, j] != INF:\n",
    "                    if dp[i - 1, k] != -1:\n",
    "                        curr_wt = dp[i - 1, k] + graph[k, j]\n",
    "                        if dp[i, j] == -1:\n",
    "                            dp[i, j] = curr_wt\n",
    "                        else:\n",
    "                            dp[i, j] = min(dp[i, j], curr_wt)\n",
    "    return dp\n",
    " \n",
    "# Returns minimum value of average\n",
    "# weight of a cycle in graph.\n",
    "def minAvgWeight(graph: np.array):\n",
    "    n = graph.shape[0]\n",
    "    dp = shortestpath(graph)\n",
    " \n",
    "    # array to store the avg values\n",
    "    avg = -np.ones(n, dtype=np.float64)\n",
    " \n",
    "    # Compute average values for all\n",
    "    # vertices using weights of\n",
    "    # shortest paths store in dp.\n",
    "    for i in range(n):\n",
    "        if (dp[n][i] != -1):\n",
    "            for j in range(n):\n",
    "                if (dp[j][i] != -1):\n",
    "                    avg[i] = max(avg[i], (dp[n][i] -\n",
    "                                          dp[j][i]) / (n - j))\n",
    " \n",
    "    return avg"
   ]
  },
  {
   "cell_type": "code",
   "execution_count": 2,
   "metadata": {},
   "outputs": [],
   "source": [
    "m = calcul_matrix(\"aabbcc\")"
   ]
  },
  {
   "cell_type": "code",
   "execution_count": 3,
   "metadata": {},
   "outputs": [
    {
     "data": {
      "text/plain": [
       "True"
      ]
     },
     "execution_count": 3,
     "metadata": {},
     "output_type": "execute_result"
    }
   ],
   "source": [
    "scc = strongly_connected_components(m)\n",
    "lscc = [(len(c), i) for i, c in enumerate(scc)]\n",
    "lscc.sort()\n",
    "all(length == 1 for length, _ in lscc[:-1])"
   ]
  },
  {
   "cell_type": "code",
   "execution_count": 4,
   "metadata": {},
   "outputs": [
    {
     "data": {
      "text/plain": [
       "{(1, 2, 3, 4, 5): [([1, 3], 2)], (0,): []}"
      ]
     },
     "execution_count": 4,
     "metadata": {},
     "output_type": "execute_result"
    }
   ],
   "source": [
    "critical_cycles(m)"
   ]
  },
  {
   "cell_type": "code",
   "execution_count": 5,
   "metadata": {},
   "outputs": [
    {
     "data": {
      "text/plain": [
       "1"
      ]
     },
     "execution_count": 5,
     "metadata": {},
     "output_type": "execute_result"
    }
   ],
   "source": [
    "denardo_period(m)"
   ]
  },
  {
   "cell_type": "code",
   "execution_count": 29,
   "metadata": {},
   "outputs": [
    {
     "data": {
      "image/png": "[encoded data removed]",
      "text/plain": [
       "<Figure size 432x288 with 1 Axes>"
      ]
     },
     "metadata": {},
     "output_type": "display_data"
    }
   ],
   "source": [
    "draw_graph(\"aabbcc\")"
   ]
  },
  {
   "cell_type": "code",
   "execution_count": 30,
   "metadata": {},
   "outputs": [
    {
     "data": {
      "text/plain": [
       "array([[inf,  1.,  1.,  1.,  1.,  1.],\n",
       "       [inf,  2.,  2.,  2.,  2.,  2.],\n",
       "       [inf,  2.,  2.,  1.,  1.,  1.],\n",
       "       [inf,  3.,  3.,  2.,  2.,  2.],\n",
       "       [inf,  2.,  2.,  2.,  2.,  1.],\n",
       "       [inf,  3.,  3.,  3.,  3.,  2.]])"
      ]
     },
     "execution_count": 30,
     "metadata": {},
     "output_type": "execute_result"
    }
   ],
   "source": [
    "calcul_matrix(\"aabbcc\")"
   ]
  },
  {
   "cell_type": "code",
   "execution_count": 13,
   "metadata": {},
   "outputs": [],
   "source": [
    "def pente(vec: np.array, period: int):\n",
    "    \n",
    "    assert (\n",
    "        (vec[-period:] - vec[-2 * period: -period]) \n",
    "        == \n",
    "        (vec[-2 * period: -period] - vec[-3 * period: -2 * period])\n",
    "            ).all(), \"Le vecteur n'est pas périodique\"\n",
    "    return (vec[-1] - vec[-period - 1]) / period"
   ]
  },
  {
   "cell_type": "code",
   "execution_count": 14,
   "metadata": {},
   "outputs": [],
   "source": [
    "def plot_r_l_m(word: str, n=10, max_period=2):\n",
    "    r = calcul_r(word * n)\n",
    "    l = calcul_l(word * n)\n",
    "\n",
    "    ar = pente(r, max_period * len(word))\n",
    "    al = -pente(l[::-1], max_period * len(word))\n",
    "\n",
    "    rl = r + l\n",
    "    i = rl.max()\n",
    "    plt.plot(range(len(word) * n), r, label=\"r\", color=\"blue\")\n",
    "    plt.plot(range(len(word) * n), ar * np.arange(len(word) * n), label=f\"r-tendance {ar * len(word)}\", color=\"blue\", alpha=0.5)\n",
    "    plt.plot(range(len(word) * n), l, label=\"l\", color=\"orange\")\n",
    "    plt.plot(range(len(word) * n), al * np.arange(len(word) * n) + l.max(), label=f\"l-tendance {al * len(word)}\", color=\"orange\", alpha=0.5)\n",
    "    plt.plot(range(len(word) * n), rl, label=\"r + l\")\n",
    "    plt.axhline(i, label=\"m - 1\", color='red', alpha=0.5)\n",
    "    plt.title(word)\n",
    "    plt.legend()\n"
   ]
  },
  {
   "cell_type": "code",
   "execution_count": 62,
   "metadata": {},
   "outputs": [
    {
     "name": "stdout",
     "output_type": "stream",
     "text": [
      "\n",
      "\n",
      "\n",
      "\n"
     ]
    },
    {
     "data": {
      "image/png": "[encoded data removed]",
      "text/plain": [
       "<Figure size 432x288 with 1 Axes>"
      ]
     },
     "metadata": {
      "needs_background": "light"
     },
     "output_type": "display_data"
    }
   ],
   "source": [
    "plot_r_l_m(\"aabbbccc\")"
   ]
  },
  {
   "cell_type": "code",
   "execution_count": 44,
   "metadata": {},
   "outputs": [],
   "source": [
    "def pente_equal(word: str, n=10, max_period=2):\n",
    "    r = calcul_r(word * n)\n",
    "    l = calcul_l(word * n)\n",
    "\n",
    "    try:\n",
    "        ar = pente(r, max_period * len(word))\n",
    "    except AssertionError:\n",
    "        input(f\"{word} n'est a priori pas de période inférieure à {max_period}\")\n",
    "    al = pente(l[::-1], max_period * len(word))\n",
    "\n",
    "    return ar == al\n"
   ]
  },
  {
   "cell_type": "code",
   "execution_count": 6,
   "metadata": {},
   "outputs": [],
   "source": [
    "def to_base(n, base=2):\n",
    "    res = \"\"\n",
    "    while n:\n",
    "        n, r = divmod(n, base)\n",
    "        res = chr(r + 65) + res\n",
    "    return res"
   ]
  },
  {
   "cell_type": "code",
   "execution_count": 105,
   "metadata": {},
   "outputs": [
    {
     "data": {
      "text/plain": [
       "True"
      ]
     },
     "execution_count": 105,
     "metadata": {},
     "output_type": "execute_result"
    }
   ],
   "source": [
    "pente_equal(\"abbabbbcba\")"
   ]
  },
  {
   "cell_type": "code",
   "execution_count": 107,
   "metadata": {},
   "outputs": [
    {
     "data": {
      "text/plain": [
       "'1000111010100'"
      ]
     },
     "execution_count": 107,
     "metadata": {},
     "output_type": "execute_result"
    }
   ],
   "source": [
    "bin(4564)[2:]"
   ]
  },
  {
   "cell_type": "code",
   "execution_count": 115,
   "metadata": {},
   "outputs": [
    {
     "name": "stderr",
     "output_type": "stream",
     "text": [
      "100%|██████████| 262144/262144 [07:07<00:00, 613.25it/s]\n"
     ]
    },
    {
     "data": {
      "text/plain": [
       "True"
      ]
     },
     "execution_count": 115,
     "metadata": {},
     "output_type": "execute_result"
    }
   ],
   "source": [
    "all(pente_equal(bin(i)[2:]) for i in tqdm(range(2 ** 18)))\n"
   ]
  },
  {
   "cell_type": "code",
   "execution_count": 22,
   "metadata": {},
   "outputs": [
    {
     "name": "stdout",
     "output_type": "stream",
     "text": [
      "CPU times: user 19.5 s, sys: 8.25 ms, total: 19.5 s\n",
      "Wall time: 19.5 s\n"
     ]
    },
    {
     "data": {
      "text/plain": [
       "True"
      ]
     },
     "execution_count": 22,
     "metadata": {},
     "output_type": "execute_result"
    }
   ],
   "source": [
    "%%time\n",
    "all(pente_equal(to_base(i, 2)) for i in range(1, 2 ** 14))"
   ]
  },
  {
   "cell_type": "code",
   "execution_count": 24,
   "metadata": {},
   "outputs": [
    {
     "name": "stdout",
     "output_type": "stream",
     "text": [
      "CPU times: user 19.4 s, sys: 12.8 ms, total: 19.4 s\n",
      "Wall time: 19.4 s\n"
     ]
    },
    {
     "data": {
      "text/plain": [
       "True"
      ]
     },
     "execution_count": 24,
     "metadata": {},
     "output_type": "execute_result"
    }
   ],
   "source": [
    "%%time\n",
    "all(\n",
    "    pente_equal(bin(i)[2:]) for i in range(2 ** 14)\n",
    "    )"
   ]
  },
  {
   "cell_type": "code",
   "execution_count": 50,
   "metadata": {},
   "outputs": [
    {
     "data": {
      "application/vnd.jupyter.widget-view+json": {
       "model_id": "c4f2fc803b0e47c4aed4091aacf7a5d4",
       "version_major": 2,
       "version_minor": 0
      },
      "text/plain": [
       "HBox(children=(HTML(value=''), FloatProgress(value=0.0, max=59048.0), HTML(value='')))"
      ]
     },
     "metadata": {},
     "output_type": "display_data"
    },
    {
     "name": "stdout",
     "output_type": "stream",
     "text": [
      "\n"
     ]
    },
    {
     "data": {
      "text/plain": [
       "True"
      ]
     },
     "execution_count": 50,
     "metadata": {},
     "output_type": "execute_result"
    }
   ],
   "source": [
    "all(pente_equal(to_base(i, 3)) for i in tqdm(range(1, 3 ** 10)))"
   ]
  },
  {
   "cell_type": "code",
   "execution_count": 49,
   "metadata": {},
   "outputs": [
    {
     "data": {
      "application/vnd.jupyter.widget-view+json": {
       "model_id": "120cba25dcc54c66b08878465aac9b70",
       "version_major": 2,
       "version_minor": 0
      },
      "text/plain": [
       "HBox(children=(HTML(value=''), FloatProgress(value=0.0, max=262143.0), HTML(value='')))"
      ]
     },
     "metadata": {},
     "output_type": "display_data"
    },
    {
     "name": "stdout",
     "output_type": "stream",
     "text": [
      "\n"
     ]
    },
    {
     "data": {
      "text/plain": [
       "True"
      ]
     },
     "execution_count": 49,
     "metadata": {},
     "output_type": "execute_result"
    }
   ],
   "source": [
    "all(pente_equal(to_base(i, 4), max_period=6, n=25) for i in tqdm(range(1, 4 ** 9)))"
   ]
  },
  {
   "cell_type": "code",
   "execution_count": 53,
   "metadata": {},
   "outputs": [
    {
     "data": {
      "application/vnd.jupyter.widget-view+json": {
       "model_id": "41a334f26b2e4f92b7baddf3504dd929",
       "version_major": 2,
       "version_minor": 0
      },
      "text/plain": [
       "HBox(children=(HTML(value=''), FloatProgress(value=0.0, max=78124.0), HTML(value='')))"
      ]
     },
     "metadata": {},
     "output_type": "display_data"
    },
    {
     "name": "stdout",
     "output_type": "stream",
     "text": [
      "\n"
     ]
    },
    {
     "data": {
      "text/plain": [
       "True"
      ]
     },
     "execution_count": 53,
     "metadata": {},
     "output_type": "execute_result"
    }
   ],
   "source": [
    "all(pente_equal(to_base(i, 5), max_period=12, n=40) for i in tqdm(range(1, 5 ** 7)))"
   ]
  },
  {
   "cell_type": "code",
   "execution_count": 58,
   "metadata": {},
   "outputs": [
    {
     "data": {
      "application/vnd.jupyter.widget-view+json": {
       "model_id": "ade96dee46bf4606a4097f71ec0a053c",
       "version_major": 2,
       "version_minor": 0
      },
      "text/plain": [
       "HBox(children=(HTML(value=''), FloatProgress(value=0.0, max=7775.0), HTML(value='')))"
      ]
     },
     "metadata": {},
     "output_type": "display_data"
    },
    {
     "name": "stdout",
     "output_type": "stream",
     "text": [
      "\n"
     ]
    },
    {
     "data": {
      "text/plain": [
       "True"
      ]
     },
     "execution_count": 58,
     "metadata": {},
     "output_type": "execute_result"
    }
   ],
   "source": [
    "all(pente_equal(to_base(i, 6), max_period=60, n=200) for i in tqdm(range(1, 6 ** 5)))"
   ]
  },
  {
   "cell_type": "code",
   "execution_count": 61,
   "metadata": {},
   "outputs": [
    {
     "data": {
      "application/vnd.jupyter.widget-view+json": {
       "model_id": "3aa5343f01854b00a18661132b4a00e1",
       "version_major": 2,
       "version_minor": 0
      },
      "text/plain": [
       "HBox(children=(HTML(value=''), FloatProgress(value=0.0, max=16806.0), HTML(value='')))"
      ]
     },
     "metadata": {},
     "output_type": "display_data"
    },
    {
     "name": "stdout",
     "output_type": "stream",
     "text": [
      "\n"
     ]
    },
    {
     "data": {
      "text/plain": [
       "True"
      ]
     },
     "execution_count": 61,
     "metadata": {},
     "output_type": "execute_result"
    }
   ],
   "source": [
    "all(pente_equal(to_base(i, 7), max_period=60, n=200) for i in tqdm(range(1, 7 ** 5)))"
   ]
  },
  {
   "cell_type": "code",
   "execution_count": 48,
   "metadata": {},
   "outputs": [
    {
     "data": {
      "text/plain": [
       "2"
      ]
     },
     "execution_count": 48,
     "metadata": {},
     "output_type": "execute_result"
    }
   ],
   "source": [
    "cyclicite(calcul_matrix(\"BAACCB\"))"
   ]
  },
  {
   "cell_type": "code",
   "execution_count": 60,
   "metadata": {},
   "outputs": [
    {
     "data": {
      "text/plain": [
       "60"
      ]
     },
     "execution_count": 60,
     "metadata": {},
     "output_type": "execute_result"
    }
   ],
   "source": [
    "np.lcm(60, 6)"
   ]
  },
  {
   "cell_type": "code",
   "execution_count": null,
   "metadata": {},
   "outputs": [],
   "source": []
  }
 ],
 "metadata": {
  "kernelspec": {
   "display_name": "Python 3",
   "language": "python",
   "name": "python3"
  },
  "language_info": {
   "codemirror_mode": {
    "name": "ipython",
    "version": 3
   },
   "file_extension": ".py",
   "mimetype": "text/x-python",
   "name": "python",
   "nbconvert_exporter": "python",
   "pygments_lexer": "ipython3",
   "version": "3.8.10"
  }
 },
 "nbformat": 4,
 "nbformat_minor": 4
}
